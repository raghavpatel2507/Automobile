{
 "cells": [
  {
   "cell_type": "code",
   "execution_count": 1,
   "id": "cada25d3-072b-46e5-9263-258b47ced02e",
   "metadata": {},
   "outputs": [],
   "source": [
    "import pandas as pd\n",
    "import numpy as np\n",
    "import seaborn as sns\n",
    "import matplotlib.pyplot as plt\n",
    "%matplotlib inline"
   ]
  },
  {
   "cell_type": "code",
   "execution_count": 2,
   "id": "88586756-47c7-49be-a2d9-9fb79c992690",
   "metadata": {},
   "outputs": [],
   "source": [
    "df=pd.read_csv('Automobile_cleaned1_dataset.csv')"
   ]
  },
  {
   "cell_type": "code",
   "execution_count": 3,
   "id": "ccb46edf-b1eb-4559-bb6a-b179c5ed541f",
   "metadata": {},
   "outputs": [
    {
     "data": {
      "text/html": [
       "<div>\n",
       "<style scoped>\n",
       "    .dataframe tbody tr th:only-of-type {\n",
       "        vertical-align: middle;\n",
       "    }\n",
       "\n",
       "    .dataframe tbody tr th {\n",
       "        vertical-align: top;\n",
       "    }\n",
       "\n",
       "    .dataframe thead th {\n",
       "        text-align: right;\n",
       "    }\n",
       "</style>\n",
       "<table border=\"1\" class=\"dataframe\">\n",
       "  <thead>\n",
       "    <tr style=\"text-align: right;\">\n",
       "      <th></th>\n",
       "      <th>mpg</th>\n",
       "      <th>cylinders</th>\n",
       "      <th>displacement</th>\n",
       "      <th>horsepower</th>\n",
       "      <th>weight</th>\n",
       "      <th>acceleration</th>\n",
       "      <th>model_year</th>\n",
       "      <th>origin1</th>\n",
       "    </tr>\n",
       "  </thead>\n",
       "  <tbody>\n",
       "    <tr>\n",
       "      <th>0</th>\n",
       "      <td>18.0</td>\n",
       "      <td>8</td>\n",
       "      <td>307.0</td>\n",
       "      <td>130.0</td>\n",
       "      <td>3504</td>\n",
       "      <td>12.0</td>\n",
       "      <td>70</td>\n",
       "      <td>2</td>\n",
       "    </tr>\n",
       "    <tr>\n",
       "      <th>1</th>\n",
       "      <td>15.0</td>\n",
       "      <td>8</td>\n",
       "      <td>350.0</td>\n",
       "      <td>165.0</td>\n",
       "      <td>3693</td>\n",
       "      <td>11.5</td>\n",
       "      <td>70</td>\n",
       "      <td>2</td>\n",
       "    </tr>\n",
       "    <tr>\n",
       "      <th>2</th>\n",
       "      <td>18.0</td>\n",
       "      <td>8</td>\n",
       "      <td>318.0</td>\n",
       "      <td>150.0</td>\n",
       "      <td>3436</td>\n",
       "      <td>11.0</td>\n",
       "      <td>70</td>\n",
       "      <td>2</td>\n",
       "    </tr>\n",
       "    <tr>\n",
       "      <th>3</th>\n",
       "      <td>16.0</td>\n",
       "      <td>8</td>\n",
       "      <td>304.0</td>\n",
       "      <td>150.0</td>\n",
       "      <td>3433</td>\n",
       "      <td>12.0</td>\n",
       "      <td>70</td>\n",
       "      <td>2</td>\n",
       "    </tr>\n",
       "    <tr>\n",
       "      <th>4</th>\n",
       "      <td>17.0</td>\n",
       "      <td>8</td>\n",
       "      <td>302.0</td>\n",
       "      <td>140.0</td>\n",
       "      <td>3449</td>\n",
       "      <td>10.5</td>\n",
       "      <td>70</td>\n",
       "      <td>2</td>\n",
       "    </tr>\n",
       "  </tbody>\n",
       "</table>\n",
       "</div>"
      ],
      "text/plain": [
       "    mpg  cylinders  displacement  horsepower  weight  acceleration  \\\n",
       "0  18.0          8         307.0       130.0    3504          12.0   \n",
       "1  15.0          8         350.0       165.0    3693          11.5   \n",
       "2  18.0          8         318.0       150.0    3436          11.0   \n",
       "3  16.0          8         304.0       150.0    3433          12.0   \n",
       "4  17.0          8         302.0       140.0    3449          10.5   \n",
       "\n",
       "   model_year  origin1  \n",
       "0          70        2  \n",
       "1          70        2  \n",
       "2          70        2  \n",
       "3          70        2  \n",
       "4          70        2  "
      ]
     },
     "execution_count": 3,
     "metadata": {},
     "output_type": "execute_result"
    }
   ],
   "source": [
    "df.head()"
   ]
  },
  {
   "cell_type": "code",
   "execution_count": 4,
   "id": "3e08830c-21e6-4c00-a475-d13c1e2740e0",
   "metadata": {},
   "outputs": [],
   "source": [
    "## independent and dependent fetures\n",
    "X=df.drop('mpg',axis=1)\n",
    "y=df['mpg']"
   ]
  },
  {
   "cell_type": "code",
   "execution_count": 6,
   "id": "d073ab47-bd8c-4b45-9477-abc3cea5de6c",
   "metadata": {},
   "outputs": [
    {
     "data": {
      "text/html": [
       "<div>\n",
       "<style scoped>\n",
       "    .dataframe tbody tr th:only-of-type {\n",
       "        vertical-align: middle;\n",
       "    }\n",
       "\n",
       "    .dataframe tbody tr th {\n",
       "        vertical-align: top;\n",
       "    }\n",
       "\n",
       "    .dataframe thead th {\n",
       "        text-align: right;\n",
       "    }\n",
       "</style>\n",
       "<table border=\"1\" class=\"dataframe\">\n",
       "  <thead>\n",
       "    <tr style=\"text-align: right;\">\n",
       "      <th></th>\n",
       "      <th>cylinders</th>\n",
       "      <th>displacement</th>\n",
       "      <th>horsepower</th>\n",
       "      <th>weight</th>\n",
       "      <th>acceleration</th>\n",
       "      <th>model_year</th>\n",
       "      <th>origin1</th>\n",
       "    </tr>\n",
       "  </thead>\n",
       "  <tbody>\n",
       "    <tr>\n",
       "      <th>0</th>\n",
       "      <td>8</td>\n",
       "      <td>307.0</td>\n",
       "      <td>130.0</td>\n",
       "      <td>3504</td>\n",
       "      <td>12.0</td>\n",
       "      <td>70</td>\n",
       "      <td>2</td>\n",
       "    </tr>\n",
       "    <tr>\n",
       "      <th>1</th>\n",
       "      <td>8</td>\n",
       "      <td>350.0</td>\n",
       "      <td>165.0</td>\n",
       "      <td>3693</td>\n",
       "      <td>11.5</td>\n",
       "      <td>70</td>\n",
       "      <td>2</td>\n",
       "    </tr>\n",
       "    <tr>\n",
       "      <th>2</th>\n",
       "      <td>8</td>\n",
       "      <td>318.0</td>\n",
       "      <td>150.0</td>\n",
       "      <td>3436</td>\n",
       "      <td>11.0</td>\n",
       "      <td>70</td>\n",
       "      <td>2</td>\n",
       "    </tr>\n",
       "    <tr>\n",
       "      <th>3</th>\n",
       "      <td>8</td>\n",
       "      <td>304.0</td>\n",
       "      <td>150.0</td>\n",
       "      <td>3433</td>\n",
       "      <td>12.0</td>\n",
       "      <td>70</td>\n",
       "      <td>2</td>\n",
       "    </tr>\n",
       "    <tr>\n",
       "      <th>4</th>\n",
       "      <td>8</td>\n",
       "      <td>302.0</td>\n",
       "      <td>140.0</td>\n",
       "      <td>3449</td>\n",
       "      <td>10.5</td>\n",
       "      <td>70</td>\n",
       "      <td>2</td>\n",
       "    </tr>\n",
       "  </tbody>\n",
       "</table>\n",
       "</div>"
      ],
      "text/plain": [
       "   cylinders  displacement  horsepower  weight  acceleration  model_year  \\\n",
       "0          8         307.0       130.0    3504          12.0          70   \n",
       "1          8         350.0       165.0    3693          11.5          70   \n",
       "2          8         318.0       150.0    3436          11.0          70   \n",
       "3          8         304.0       150.0    3433          12.0          70   \n",
       "4          8         302.0       140.0    3449          10.5          70   \n",
       "\n",
       "   origin1  \n",
       "0        2  \n",
       "1        2  \n",
       "2        2  \n",
       "3        2  \n",
       "4        2  "
      ]
     },
     "execution_count": 6,
     "metadata": {},
     "output_type": "execute_result"
    }
   ],
   "source": [
    "X.head()"
   ]
  },
  {
   "cell_type": "code",
   "execution_count": 7,
   "id": "4701ecee-7225-4ffd-b40c-c3d121755948",
   "metadata": {},
   "outputs": [
    {
     "data": {
      "text/plain": [
       "0    18.0\n",
       "1    15.0\n",
       "2    18.0\n",
       "3    16.0\n",
       "4    17.0\n",
       "Name: mpg, dtype: float64"
      ]
     },
     "execution_count": 7,
     "metadata": {},
     "output_type": "execute_result"
    }
   ],
   "source": [
    "y.head()"
   ]
  },
  {
   "cell_type": "code",
   "execution_count": 8,
   "id": "7726a0c7-377e-4544-8dc6-37c7e21ade9a",
   "metadata": {},
   "outputs": [],
   "source": [
    "#Train Test Split\n",
    "from sklearn.model_selection import train_test_split"
   ]
  },
  {
   "cell_type": "code",
   "execution_count": 9,
   "id": "b22e93b5-ca83-4a16-abfd-0a6f8697ce92",
   "metadata": {},
   "outputs": [],
   "source": [
    "X_train,X_test,y_train,y_test=train_test_split(X,y,test_size=0.25,random_state=42)"
   ]
  },
  {
   "cell_type": "code",
   "execution_count": 10,
   "id": "11c1c02d-4772-4804-aa84-8262abf41746",
   "metadata": {},
   "outputs": [
    {
     "data": {
      "text/plain": [
       "((298, 7), (100, 7), (298,), (100,))"
      ]
     },
     "execution_count": 10,
     "metadata": {},
     "output_type": "execute_result"
    }
   ],
   "source": [
    "X_train.shape,X_test.shape,y_train.shape,y_test.shape"
   ]
  },
  {
   "cell_type": "code",
   "execution_count": 11,
   "id": "8c16a314-8424-4ae2-9237-87729e534344",
   "metadata": {},
   "outputs": [],
   "source": [
    "from sklearn.preprocessing import StandardScaler"
   ]
  },
  {
   "cell_type": "code",
   "execution_count": 12,
   "id": "a4d15a5d-9d6b-4ef6-bc28-76504ffceeb6",
   "metadata": {},
   "outputs": [],
   "source": [
    "scaler=StandardScaler()"
   ]
  },
  {
   "cell_type": "code",
   "execution_count": 13,
   "id": "c41df9fd-69f4-427c-888a-e2864a8de031",
   "metadata": {},
   "outputs": [],
   "source": [
    "X_train_scaled=scaler.fit_transform(X_train)\n",
    "X_test_scaled=scaler.transform(X_test)"
   ]
  },
  {
   "cell_type": "code",
   "execution_count": 14,
   "id": "84298b1d-dc3a-4617-81fb-a475b0438652",
   "metadata": {},
   "outputs": [
    {
     "data": {
      "text/plain": [
       "array([[-0.86564282, -0.93324137, -1.02041589, ..., -0.45458866,\n",
       "         0.53837478,  0.7131373 ],\n",
       "       [-0.86564282, -0.83481596, -0.25303563, ...,  0.30443371,\n",
       "        -0.86158757, -0.57483189],\n",
       "       [ 0.32862366,  0.06085531, -0.17081632, ..., -0.05700552,\n",
       "        -1.70156498,  0.7131373 ],\n",
       "       ...,\n",
       "       [-0.86564282, -0.57890988, -0.22562919, ..., -0.31001297,\n",
       "         0.53837478, -0.57483189],\n",
       "       [-0.86564282, -1.02182425, -1.13004164, ...,  0.59358509,\n",
       "         1.3783522 , -0.57483189],\n",
       "       [-0.86564282, -0.94308392, -1.56854464, ...,  1.93091021,\n",
       "        -0.86158757, -1.86280107]])"
      ]
     },
     "execution_count": 14,
     "metadata": {},
     "output_type": "execute_result"
    }
   ],
   "source": [
    "X_train_scaled"
   ]
  },
  {
   "cell_type": "code",
   "execution_count": 15,
   "id": "1f9c69a7-5382-45f2-be90-e92a1eeb73ca",
   "metadata": {},
   "outputs": [
    {
     "data": {
      "text/plain": [
       "array([[-8.65642818e-01, -1.00213916e+00, -1.37669957e+00,\n",
       "        -1.42147414e+00,  6.29729008e-01, -2.16101572e-02,\n",
       "        -5.74831885e-01],\n",
       "       [-8.65642818e-01, -7.16705463e-01, -6.64132196e-01,\n",
       "        -4.24752967e-01,  1.06345608e+00,  1.65834467e+00,\n",
       "         7.13137301e-01],\n",
       "       [ 3.28623662e-01,  3.85659178e-01, -8.85970060e-02,\n",
       "        -4.13945147e-01, -9.60603572e-01, -1.42157251e+00,\n",
       "         7.13137301e-01],\n",
       "       [ 1.52289014e+00,  1.23211774e+00,  1.28172487e+00,\n",
       "         1.15438962e+00, -8.88315728e-01, -2.16101572e-02,\n",
       "         7.13137301e-01],\n",
       "       [ 1.52289014e+00,  1.23211774e+00,  1.28172487e+00,\n",
       "         1.51104768e+00, -4.18444738e-01, -8.61587570e-01,\n",
       "         7.13137301e-01],\n",
       "       [-8.65642818e-01, -9.43083916e-01, -4.17474257e-01,\n",
       "        -1.05520913e+00,  3.04433708e-01, -1.14158004e+00,\n",
       "        -5.74831885e-01],\n",
       "       [-8.65642818e-01, -5.19854634e-01, -3.07848507e-01,\n",
       "        -1.36544434e-01,  2.68289786e-01,  1.65834467e+00,\n",
       "         7.13137301e-01],\n",
       "       [ 1.52289014e+00,  2.43290780e+00,  3.06314332e+00,\n",
       "         2.10908038e+00, -1.68348202e+00, -8.61587570e-01,\n",
       "         7.13137301e-01],\n",
       "       [ 1.52289014e+00,  6.61250338e-01,  1.85467370e-01,\n",
       "         1.29849389e+00,  1.20803176e+00,  2.58382314e-01,\n",
       "         7.13137301e-01],\n",
       "       [ 3.28623662e-01,  7.06978522e-02,  3.38929907e-02,\n",
       "        -1.24535745e-01,  4.85153319e-01, -5.81595099e-01,\n",
       "         7.13137301e-01],\n",
       "       [ 1.52289014e+00,  1.94078073e+00,  2.37798238e+00,\n",
       "         1.04631142e+00, -2.58708008e+00, -1.70156498e+00,\n",
       "         7.13137301e-01],\n",
       "       [-8.65642818e-01, -1.00213916e+00, -9.93009447e-01,\n",
       "        -1.21732643e+00, -2.37725126e-01,  1.65834467e+00,\n",
       "        -5.74831885e-01],\n",
       "       [-8.65642818e-01, -1.00213916e+00, -9.10790135e-01,\n",
       "        -1.22933512e+00,  1.75019060e+00, -1.42157251e+00,\n",
       "         7.13137301e-01],\n",
       "       [ 1.52289014e+00,  1.09432216e+00,  1.28172487e+00,\n",
       "         1.09674791e+00, -1.14132318e+00, -1.14158004e+00,\n",
       "         7.13137301e-01],\n",
       "       [-8.65642818e-01, -5.19854634e-01, -7.73757946e-01,\n",
       "        -5.24425085e-01,  4.85153319e-01, -5.81595099e-01,\n",
       "         7.13137301e-01],\n",
       "       [ 1.52289014e+00,  1.87188294e+00,  2.10391800e+00,\n",
       "         2.37327154e+00, -1.50276241e+00, -1.42157251e+00,\n",
       "         7.13137301e-01],\n",
       "       [-8.65642818e-01, -7.95445794e-01, -4.99693570e-01,\n",
       "        -4.84796411e-01,  1.96001941e-01,  1.65834467e+00,\n",
       "         7.13137301e-01],\n",
       "       [ 3.28623662e-01, -2.93476181e-01,  5.96563934e-01,\n",
       "         1.93694510e-01, -7.43740038e-01,  5.38374785e-01,\n",
       "        -1.86280107e+00],\n",
       "       [ 1.52289014e+00,  2.03920614e+00,  2.10391800e+00,\n",
       "         1.49063291e+00, -1.64733810e+00,  2.58382314e-01,\n",
       "         7.13137301e-01],\n",
       "       [-8.65642818e-01, -1.00213916e+00, -9.65603010e-01,\n",
       "        -1.21132209e+00,  7.02016853e-01,  1.65834467e+00,\n",
       "        -5.74831885e-01],\n",
       "       [-8.65642818e-01, -7.06862921e-01, -7.46351509e-01,\n",
       "        -5.61652020e-01,  8.46592542e-01, -1.14158004e+00,\n",
       "        -1.86280107e+00],\n",
       "       [ 3.28623662e-01,  5.10127693e-02, -2.25629194e-01,\n",
       "        -1.74972239e-01, -5.70055150e-02, -1.70156498e+00,\n",
       "         7.13137301e-01],\n",
       "       [ 3.28623662e-01,  3.85659178e-01,  2.40280245e-01,\n",
       "        -1.72570501e-01, -3.46156893e-01,  1.65834467e+00,\n",
       "         7.13137301e-01],\n",
       "       [-8.65642818e-01, -9.33241375e-01, -5.54506445e-01,\n",
       "        -1.08523085e+00,  8.75701741e-02,  2.58382314e-01,\n",
       "         7.13137301e-01],\n",
       "       [ 1.52289014e+00,  1.12384979e+00,  7.33596123e-01,\n",
       "         6.30810785e-01, -1.32204280e+00, -1.70156498e+00,\n",
       "         7.13137301e-01],\n",
       "       [-8.65642818e-01, -9.43083916e-01, -1.40410601e+00,\n",
       "        -1.01918307e+00,  3.23209141e+00,  1.65834467e+00,\n",
       "        -1.86280107e+00],\n",
       "       [-8.65642818e-01, -9.33241375e-01, -3.62661382e-01,\n",
       "        -8.57065766e-01, -5.70055150e-02, -8.61587570e-01,\n",
       "        -1.86280107e+00],\n",
       "       [-8.65642818e-01, -4.11586678e-01, -4.17474257e-01,\n",
       "        -2.86653045e-01,  1.23714096e-01,  2.58382314e-01,\n",
       "         7.13137301e-01],\n",
       "       [ 3.28623662e-01,  6.41565256e-01,  4.59531746e-01,\n",
       "         5.17929109e-01, -2.01581204e-01,  5.38374785e-01,\n",
       "         7.13137301e-01],\n",
       "       [ 1.52289014e+00,  2.03920614e+00,  1.74763431e+00,\n",
       "         2.31442896e+00, -1.14132318e+00, -8.61587570e-01,\n",
       "         7.13137301e-01],\n",
       "       [-8.65642818e-01, -5.19854634e-01, -4.72287133e-01,\n",
       "        -2.26609601e-01, -2.08615927e-02,  1.65834467e+00,\n",
       "         7.13137301e-01],\n",
       "       [-8.65642818e-01, -8.64343584e-01, -8.01164384e-01,\n",
       "        -1.19931340e+00, -1.29293360e-01,  1.65834467e+00,\n",
       "        -1.86280107e+00],\n",
       "       [ 1.52289014e+00,  1.54707907e+00,  5.96563934e-01,\n",
       "         1.10635486e+00,  6.29729008e-01,  8.18367256e-01,\n",
       "         7.13137301e-01],\n",
       "       [-8.65642818e-01, -7.85603253e-01, -2.25629194e-01,\n",
       "        -8.41454471e-01, -5.70055150e-02, -1.14158004e+00,\n",
       "        -5.74831885e-01],\n",
       "       [-8.65642818e-01, -1.05135187e+00, -1.04782232e+00,\n",
       "        -1.15247951e+00,  2.68289786e-01,  1.09835973e+00,\n",
       "        -5.74831885e-01],\n",
       "       [ 1.52289014e+00,  2.03920614e+00,  3.47423988e+00,\n",
       "         1.56028330e+00, -2.22564085e+00, -8.61587570e-01,\n",
       "         7.13137301e-01],\n",
       "       [ 3.28623662e-01, -3.72216513e-01,  1.03248057e-01,\n",
       "        -6.08485907e-01, -5.99164349e-01, -8.61587570e-01,\n",
       "         7.13137301e-01],\n",
       "       [ 1.52289014e+00,  1.10416470e+00,  1.14469269e+00,\n",
       "         5.35942143e-01, -8.88315728e-01,  5.38374785e-01,\n",
       "         7.13137301e-01],\n",
       "       [ 1.52289014e+00,  1.23211774e+00,  1.28172487e+00,\n",
       "         1.82447446e+00, -4.18444738e-01, -3.01602628e-01,\n",
       "         7.13137301e-01],\n",
       "       [-8.65642818e-01, -9.33241375e-01, -5.54506445e-01,\n",
       "        -9.12305735e-01,  3.04433708e-01, -5.81595099e-01,\n",
       "        -1.86280107e+00],\n",
       "       [ 3.28623662e-01, -1.95050767e-01,  3.22499558e-01,\n",
       "        -3.34687801e-01, -9.96747494e-01,  8.18367256e-01,\n",
       "         7.13137301e-01],\n",
       "       [-8.65642818e-01, -9.43083916e-01, -1.18485451e+00,\n",
       "        -1.37464026e+00,  1.20803176e+00, -1.42157251e+00,\n",
       "        -1.86280107e+00],\n",
       "       [-8.65642818e-01, -7.06862921e-01,  2.40280245e-01,\n",
       "        -5.48853498e-02, -4.18444738e-01, -1.14158004e+00,\n",
       "        -1.86280107e+00],\n",
       "       [ 1.52289014e+00,  1.64550448e+00,  3.06314332e+00,\n",
       "         1.96497612e+00, -5.99164349e-01, -1.70156498e+00,\n",
       "         7.13137301e-01],\n",
       "       [-8.65642818e-01, -7.16705463e-01, -1.70816319e-01,\n",
       "        -5.67656365e-01, -4.18444738e-01, -1.14158004e+00,\n",
       "        -5.74831885e-01],\n",
       "       [-8.65642818e-01, -7.16705463e-01, -4.17474257e-01,\n",
       "        -9.83157000e-01, -4.18444738e-01,  1.65834467e+00,\n",
       "        -5.74831885e-01],\n",
       "       [-8.65642818e-01, -7.56075629e-01, -7.73757946e-01,\n",
       "        -8.79882275e-01, -5.99164349e-01, -5.81595099e-01,\n",
       "        -1.86280107e+00],\n",
       "       [-8.65642818e-01, -7.06862921e-01,  3.22499558e-01,\n",
       "        -3.69512998e-01, -7.79883961e-01, -3.01602628e-01,\n",
       "        -1.86280107e+00],\n",
       "       [-8.65642818e-01, -8.74186126e-01, -2.25629194e-01,\n",
       "        -7.24970189e-01,  6.65872931e-01, -1.70156498e+00,\n",
       "        -1.86280107e+00],\n",
       "       [-8.65642818e-01, -1.01198171e+00, -8.83383697e-01,\n",
       "        -9.07502260e-01,  3.04433708e-01, -3.01602628e-01,\n",
       "        -1.86280107e+00],\n",
       "       [-8.65642818e-01, -5.19854634e-01, -8.55977259e-01,\n",
       "        -6.85341516e-01,  1.20803176e+00, -1.42157251e+00,\n",
       "         7.13137301e-01],\n",
       "       [-8.65642818e-01, -1.05135187e+00, -1.04782232e+00,\n",
       "        -1.20531774e+00, -1.65437282e-01,  8.18367256e-01,\n",
       "        -5.74831885e-01],\n",
       "       [-8.65642818e-01, -8.44658502e-01, -8.55977259e-01,\n",
       "        -8.27044044e-01,  4.85153319e-01,  1.09835973e+00,\n",
       "        -5.74831885e-01],\n",
       "       [ 1.52289014e+00,  2.03920614e+00,  2.37798238e+00,\n",
       "         1.73320842e+00, -1.14132318e+00, -1.14158004e+00,\n",
       "         7.13137301e-01],\n",
       "       [ 3.28623662e-01, -1.95050767e-01,  1.85467370e-01,\n",
       "        -3.04666078e-01, -1.10517926e+00,  1.37835220e+00,\n",
       "         7.13137301e-01],\n",
       "       [ 1.52289014e+00,  2.03920614e+00,  1.96688582e+00,\n",
       "         1.78364492e+00, -1.50276241e+00, -1.42157251e+00,\n",
       "         7.13137301e-01],\n",
       "       [ 1.52289014e+00,  1.64550448e+00,  1.28172487e+00,\n",
       "         1.15438962e+00, -9.60603572e-01,  8.18367256e-01,\n",
       "         7.13137301e-01],\n",
       "       [-8.65642818e-01, -5.78909883e-01, -3.62661382e-01,\n",
       "        -3.21478243e-01, -5.70055150e-02,  1.09835973e+00,\n",
       "        -5.74831885e-01],\n",
       "       [-8.65642818e-01, -5.19854634e-01, -3.62661382e-01,\n",
       "        -8.58266635e-01, -5.70055150e-02, -1.42157251e+00,\n",
       "         7.13137301e-01],\n",
       "       [ 3.28623662e-01,  3.16761388e-01, -2.25629194e-01,\n",
       "         3.42602252e-01,  1.23714096e-01, -3.01602628e-01,\n",
       "         7.13137301e-01],\n",
       "       [ 1.52289014e+00,  1.54707907e+00,  2.10391800e+00,\n",
       "         8.22949807e-01, -1.68348202e+00, -8.61587570e-01,\n",
       "         7.13137301e-01],\n",
       "       [-8.65642818e-01, -1.00213916e+00, -1.37669957e+00,\n",
       "        -1.42147414e+00,  6.65872931e-01, -3.01602628e-01,\n",
       "        -5.74831885e-01],\n",
       "       [-8.65642818e-01, -5.19854634e-01, -5.54506445e-01,\n",
       "        -4.07940803e-01,  4.85153319e-01, -3.01602628e-01,\n",
       "         7.13137301e-01],\n",
       "       [-8.65642818e-01, -7.16705463e-01, -4.44880695e-01,\n",
       "         3.54619000e-04,  1.38875138e+00, -1.14158004e+00,\n",
       "        -1.86280107e+00],\n",
       "       [ 3.28623662e-01,  5.10127693e-02, -2.25629194e-01,\n",
       "        -8.97105475e-02,  1.23714096e-01, -8.61587570e-01,\n",
       "         7.13137301e-01],\n",
       "       [-8.65642818e-01, -7.85603253e-01, -2.25629194e-01,\n",
       "        -9.01497915e-01, -5.99164349e-01, -1.42157251e+00,\n",
       "        -5.74831885e-01],\n",
       "       [-8.65642818e-01, -4.11586678e-01, -4.99693570e-01,\n",
       "        -1.48553123e-01,  7.02016853e-01,  5.38374785e-01,\n",
       "         7.13137301e-01],\n",
       "       [-8.65642818e-01, -9.33241375e-01, -1.04782232e+00,\n",
       "        -1.12125692e+00,  1.96001941e-01,  1.37835220e+00,\n",
       "         7.13137301e-01],\n",
       "       [-8.65642818e-01, -9.33241375e-01, -1.18485451e+00,\n",
       "        -9.78353524e-01,  2.32849336e+00, -2.16101572e-02,\n",
       "         7.13137301e-01],\n",
       "       [ 1.52289014e+00,  1.12384979e+00,  7.33596123e-01,\n",
       "         1.34412690e+00, -5.99164349e-01, -1.14158004e+00,\n",
       "         7.13137301e-01],\n",
       "       [-8.65642818e-01, -8.64343584e-01, -1.10263520e+00,\n",
       "        -9.17109211e-01, -2.73869049e-01,  1.37835220e+00,\n",
       "         7.13137301e-01],\n",
       "       [ 1.52289014e+00,  1.09432216e+00,  1.28172487e+00,\n",
       "         1.53506506e+00, -5.70055150e-02, -5.81595099e-01,\n",
       "         7.13137301e-01],\n",
       "       [ 1.52289014e+00,  2.32463984e+00,  2.59723388e+00,\n",
       "         1.63593804e+00, -2.04492124e+00, -1.70156498e+00,\n",
       "         7.13137301e-01],\n",
       "       [ 3.28623662e-01,  6.41565256e-01,  1.85467370e-01,\n",
       "        -2.00601521e-02, -7.79883961e-01, -1.42157251e+00,\n",
       "         7.13137301e-01],\n",
       "       [ 3.28623662e-01, -1.16310435e-01,  1.85467370e-01,\n",
       "        -4.04749232e-02,  2.68289786e-01,  1.65834467e+00,\n",
       "         7.13137301e-01],\n",
       "       [ 1.52289014e+00,  6.61250338e-01,  1.85467370e-01,\n",
       "         4.63890009e-01, -5.70055150e-02,  5.38374785e-01,\n",
       "         7.13137301e-01],\n",
       "       [ 3.28623662e-01,  5.62824924e-01,  1.85467370e-01,\n",
       "         6.50024687e-01,  2.68289786e-01,  2.58382314e-01,\n",
       "         7.13137301e-01],\n",
       "       [-8.65642818e-01, -7.95445794e-01, -4.17474257e-01,\n",
       "        -4.48770345e-01,  1.42489530e+00,  1.65834467e+00,\n",
       "         7.13137301e-01],\n",
       "       [-8.65642818e-01, -1.01198171e+00, -9.10790135e-01,\n",
       "        -1.25095076e+00, -5.99164349e-01, -3.01602628e-01,\n",
       "        -1.86280107e+00],\n",
       "       [ 1.52289014e+00,  1.10416470e+00,  7.33596123e-01,\n",
       "         1.03430273e+00, -9.31494373e-02,  8.18367256e-01,\n",
       "         7.13137301e-01],\n",
       "       [ 1.52289014e+00,  1.09432216e+00,  1.28172487e+00,\n",
       "         5.45549094e-01, -1.32204280e+00, -1.70156498e+00,\n",
       "         7.13137301e-01],\n",
       "       [-8.65642818e-01, -9.43083916e-01, -4.17474257e-01,\n",
       "        -1.01918307e+00, -4.18444738e-01, -1.70156498e+00,\n",
       "        -5.74831885e-01],\n",
       "       [-8.65642818e-01, -1.00213916e+00, -9.65603010e-01,\n",
       "        -1.14527430e+00,  9.18880387e-01,  1.65834467e+00,\n",
       "        -5.74831885e-01],\n",
       "       [-8.65642818e-01, -1.00213916e+00, -1.18485451e+00,\n",
       "        -1.41546980e+00,  2.68289786e-01,  5.38374785e-01,\n",
       "        -5.74831885e-01],\n",
       "       [-8.65642818e-01, -7.65918170e-01, -2.25629194e-01,\n",
       "        -3.41893014e-01, -2.37725126e-01, -3.01602628e-01,\n",
       "        -1.86280107e+00],\n",
       "       [ 1.52289014e+00,  2.03920614e+00,  1.96688582e+00,\n",
       "         1.68877627e+00, -1.32204280e+00, -1.14158004e+00,\n",
       "         7.13137301e-01],\n",
       "       [-8.65642818e-01, -1.13009220e+00, -1.40410601e+00,\n",
       "        -1.19330905e+00,  1.35260745e+00,  5.38374785e-01,\n",
       "        -5.74831885e-01],\n",
       "       [-8.65642818e-01, -9.33241375e-01, -1.04782232e+00,\n",
       "        -7.18965844e-01,  1.82247844e+00,  1.37835220e+00,\n",
       "         7.13137301e-01],\n",
       "       [-8.65642818e-01, -9.43083916e-01, -4.17474257e-01,\n",
       "        -8.40253602e-01,  1.20803176e+00, -8.61587570e-01,\n",
       "        -5.74831885e-01],\n",
       "       [ 1.52289014e+00,  2.32463984e+00,  2.59723388e+00,\n",
       "         2.36966893e+00, -1.50276241e+00, -8.61587570e-01,\n",
       "         7.13137301e-01],\n",
       "       [ 1.52289014e+00,  2.03920614e+00,  2.37798238e+00,\n",
       "         1.61672414e+00, -1.24975495e+00,  2.58382314e-01,\n",
       "         7.13137301e-01],\n",
       "       [-1.46277606e+00, -1.20883253e+00, -8.85970060e-02,\n",
       "        -6.70931089e-01, -1.14132318e+00,  1.09835973e+00,\n",
       "        -5.74831885e-01],\n",
       "       [-8.65642818e-01, -7.56075629e-01, -7.73757946e-01,\n",
       "        -9.85558737e-01, -5.70055150e-02, -8.61587570e-01,\n",
       "        -1.86280107e+00],\n",
       "       [-8.65642818e-01, -1.12024966e+00, -1.23966739e+00,\n",
       "        -1.38544808e+00,  1.06345608e+00,  2.58382314e-01,\n",
       "        -1.86280107e+00],\n",
       "       [ 3.28623662e-01, -3.62373971e-01,  1.30654495e-01,\n",
       "        -5.84879565e-02, -5.70055150e-02, -2.16101572e-02,\n",
       "        -5.74831885e-01],\n",
       "       [-8.65642818e-01, -8.64343584e-01, -1.10263520e+00,\n",
       "        -1.02518741e+00, -3.46156893e-01,  1.65834467e+00,\n",
       "         7.13137301e-01],\n",
       "       [-8.65642818e-01, -5.69067341e-01, -5.27100008e-01,\n",
       "        -5.44839856e-01,  1.23714096e-01,  1.65834467e+00,\n",
       "         7.13137301e-01],\n",
       "       [ 3.28623662e-01,  3.75816637e-01,  3.22499558e-01,\n",
       "         3.19785743e-01, -9.31494373e-02,  8.18367256e-01,\n",
       "         7.13137301e-01],\n",
       "       [-8.65642818e-01, -3.62373971e-01,  4.84351821e-02,\n",
       "        -2.14600912e-01, -4.54588660e-01,  1.09835973e+00,\n",
       "         7.13137301e-01],\n",
       "       [ 1.52289014e+00,  1.23211774e+00,  1.28172487e+00,\n",
       "         1.31890866e+00, -5.99164349e-01, -1.14158004e+00,\n",
       "         7.13137301e-01]])"
      ]
     },
     "execution_count": 15,
     "metadata": {},
     "output_type": "execute_result"
    }
   ],
   "source": [
    "X_test_scaled"
   ]
  },
  {
   "cell_type": "code",
   "execution_count": 16,
   "id": "80c0a1c2-6902-4e4d-a11f-e48ff5097f71",
   "metadata": {},
   "outputs": [
    {
     "name": "stderr",
     "output_type": "stream",
     "text": [
      "/tmp/ipykernel_800/160744393.py:2: MatplotlibDeprecationWarning: Auto-removal of overlapping axes is deprecated since 3.6 and will be removed two minor releases later; explicitly call ax.remove() as needed.\n",
      "  plt.subplot(1, 2, 1)\n"
     ]
    },
    {
     "data": {
      "text/plain": [
       "Text(0.5, 1.0, 'X_train After Scaling')"
      ]
     },
     "execution_count": 16,
     "metadata": {},
     "output_type": "execute_result"
    },
    {
     "data": {
      "image/png": "[encoded data removed]",
      "text/plain": [
       "<Figure size 1500x500 with 2 Axes>"
      ]
     },
     "metadata": {},
     "output_type": "display_data"
    }
   ],
   "source": [
    "plt.subplots(figsize=(15, 5))\n",
    "plt.subplot(1, 2, 1)\n",
    "sns.boxplot(data=X_train)\n",
    "plt.title('X_train Before Scaling')\n",
    "plt.subplot(1, 2, 2)\n",
    "sns.boxplot(data=X_train_scaled)\n",
    "plt.title('X_train After Scaling')"
   ]
  },
  {
   "cell_type": "markdown",
   "id": "f614cf50-47d7-4c55-abc6-139e14f24d7f",
   "metadata": {},
   "source": [
    "## Linear regression model"
   ]
  },
  {
   "cell_type": "code",
   "execution_count": 17,
   "id": "ae2dfda4-2ebd-4c8b-9c15-cdd02b350f4c",
   "metadata": {},
   "outputs": [
    {
     "name": "stdout",
     "output_type": "stream",
     "text": [
      "Mean absolute error 2.4891986025564328\n",
      "R2 Score 0.8372332755452311\n"
     ]
    }
   ],
   "source": [
    "from sklearn.linear_model import LinearRegression\n",
    "from sklearn.metrics import mean_absolute_error\n",
    "from sklearn.metrics import r2_score\n",
    "regression=LinearRegression()\n",
    "regression.fit(X_train_scaled,y_train)\n",
    "y_pred=regression.predict(X_test_scaled)\n",
    "mae=mean_absolute_error(y_test,y_pred)\n",
    "score=r2_score(y_test,y_pred)\n",
    "print(\"Mean absolute error\", mae)\n",
    "print(\"R2 Score\", score)"
   ]
  },
  {
   "cell_type": "markdown",
   "id": "75a15575-213d-4966-bd7f-4fa7265573a6",
   "metadata": {},
   "source": [
    "## Lasso Regression"
   ]
  },
  {
   "cell_type": "code",
   "execution_count": 18,
   "id": "47d33707-524f-4afb-9787-ff1dc04ac1b1",
   "metadata": {},
   "outputs": [
    {
     "name": "stdout",
     "output_type": "stream",
     "text": [
      "Mean absolute error 2.37874517078029\n",
      "R2 Score 0.8357153251617062\n"
     ]
    }
   ],
   "source": [
    "from sklearn.linear_model import Lasso\n",
    "from sklearn.metrics import mean_absolute_error\n",
    "from sklearn.metrics import r2_score\n",
    "lasso=Lasso()\n",
    "lasso.fit(X_train_scaled,y_train)\n",
    "y_pred=lasso.predict(X_test_scaled)\n",
    "mae=mean_absolute_error(y_test,y_pred)\n",
    "score=r2_score(y_test,y_pred)\n",
    "print(\"Mean absolute error\", mae)\n",
    "print(\"R2 Score\", score)"
   ]
  },
  {
   "cell_type": "markdown",
   "id": "e58cb2b8-b100-4b37-8929-d024219f4faa",
   "metadata": {},
   "source": [
    "## Ridge Regression model"
   ]
  },
  {
   "cell_type": "code",
   "execution_count": 19,
   "id": "b672c32a-b1cf-4bae-9eda-104f37fefcf6",
   "metadata": {},
   "outputs": [
    {
     "name": "stdout",
     "output_type": "stream",
     "text": [
      "Mean absolute error 2.4893936596900788\n",
      "R2 Score 0.836711959612739\n"
     ]
    }
   ],
   "source": [
    "from sklearn.linear_model import Ridge\n",
    "from sklearn.metrics import mean_absolute_error\n",
    "from sklearn.metrics import r2_score\n",
    "ridge=Ridge()\n",
    "ridge.fit(X_train_scaled,y_train)\n",
    "y_pred=ridge.predict(X_test_scaled)\n",
    "mae=mean_absolute_error(y_test,y_pred)\n",
    "score=r2_score(y_test,y_pred)\n",
    "print(\"Mean absolute error\", mae)\n",
    "print(\"R2 Score\", score)"
   ]
  },
  {
   "cell_type": "code",
   "execution_count": 20,
   "id": "1b7cd404-0488-423e-ad79-7f1c15ddf9c2",
   "metadata": {},
   "outputs": [
    {
     "name": "stdout",
     "output_type": "stream",
     "text": [
      "Mean absolute error 2.5573051506918323\n",
      "R2 Score 0.8049841161828872\n"
     ]
    }
   ],
   "source": [
    "## Elasticnet Regression\n",
    "from sklearn.linear_model import ElasticNet\n",
    "from sklearn.metrics import mean_absolute_error\n",
    "from sklearn.metrics import r2_score\n",
    "elastic=ElasticNet()\n",
    "elastic.fit(X_train_scaled,y_train)\n",
    "y_pred=elastic.predict(X_test_scaled)\n",
    "mae=mean_absolute_error(y_test,y_pred)\n",
    "score=r2_score(y_test,y_pred)\n",
    "print(\"Mean absolute error\", mae)\n",
    "print(\"R2 Score\", score)"
   ]
  },
  {
   "cell_type": "code",
   "execution_count": null,
   "id": "07f83ddc-3191-480a-b6f1-2607bbfea124",
   "metadata": {},
   "outputs": [],
   "source": [
    "import pickle\n",
    "pickle.dump(scaler,open('scaler.pkl','wb'))\n",
    "pickle.dump(ridge,open('ridge.pkl','wb'))"
   ]
  }
 ],
 "metadata": {
  "kernelspec": {
   "display_name": "Python 3 (ipykernel)",
   "language": "python",
   "name": "python3"
  },
  "language_info": {
   "codemirror_mode": {
    "name": "ipython",
    "version": 3
   },
   "file_extension": ".py",
   "mimetype": "text/x-python",
   "name": "python",
   "nbconvert_exporter": "python",
   "pygments_lexer": "ipython3",
   "version": "3.10.8"
  }
 },
 "nbformat": 4,
 "nbformat_minor": 5
}
